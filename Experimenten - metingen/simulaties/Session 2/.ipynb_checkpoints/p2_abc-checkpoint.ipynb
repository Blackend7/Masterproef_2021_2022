{
 "cells": [
  {
   "cell_type": "code",
   "execution_count": 1,
   "metadata": {},
   "outputs": [
    {
     "data": {
      "image/png": "[encoded data removed]",
      "text/plain": [
       "<Figure size 432x288 with 1 Axes>"
      ]
     },
     "metadata": {
      "needs_background": "light"
     },
     "output_type": "display_data"
    }
   ],
   "source": [
    "#IMPORT SOLUTION FROM LAST WEEK HERE\n",
    "#step 1  physical constants      \n",
    "import math\n",
    "import numpy as np\n",
    "\n",
    "c= 2.99792458e8\n",
    "mu = 4.0*math.pi*1.0e-7\n",
    "e_0 = 1.0/((c**2)*mu)\n",
    "e_r = 1.0\n",
    "\n",
    "#step 2 spatial domain information\n",
    "Nx = 200\n",
    "dx = 1e-3\n",
    "\n",
    "#step 3  field variable allocation\n",
    "Hy = np.zeros(Nx)   #magentic field y component\n",
    "Ez = np.zeros(Nx)   #electric field z-component\n",
    "\n",
    "\n",
    "#step 4 time information\n",
    "dt = dx/c\n",
    "Nt = 400\n",
    "\n",
    "#helpers\n",
    "midX   = round(Nx/2)                           #midpoint in the x-direction\n",
    "quartX = round(Nx/4)                           #quarterpoint in the x-direction\n",
    "\n",
    "import matplotlib.pyplot as plt\n",
    "from IPython import display\n",
    "    \n",
    "for t in range(Nt):\n",
    "    for ix in range(1, Nx):\n",
    "        Ez[ix] = Ez[ix] + dt/(e_0*e_r) * (Hy[ix] - Hy[ix-1])/dx\n",
    "        \n",
    "        #extra disturbance\n",
    "    Hy[Nx-1]=Hy[Nx-2]        \n",
    "    Ez[midX] = Ez[midX] + math.exp(-((t-50)**2)/49)\n",
    "        \n",
    "    for ix in range(Nx-1):\n",
    "        Hy[ix] = Hy[ix] + dt/mu * (Ez[ix+1] - Ez[ix])/dx\n",
    "    plt.plot(np.linspace(1, Nx, Nx), Ez)\n",
    "    plt.axis([0,Nx, -1, 1])\n",
    "    plt.pause(0.001)\n",
    "    display.clear_output(wait=True)\n",
    "    Ez[0]= Ez[1]"
   ]
  },
  {
   "cell_type": "code",
   "execution_count": 2,
   "metadata": {},
   "outputs": [
    {
     "data": {
      "image/png": "[encoded data removed]",
      "text/plain": [
       "<Figure size 432x288 with 1 Axes>"
      ]
     },
     "metadata": {
      "needs_background": "light"
     },
     "output_type": "display_data"
    }
   ],
   "source": [
    "Hy = np.zeros(Nx)   #magentic field y component\n",
    "Ez = np.zeros(Nx)   #electric field z-component\n",
    "\n",
    "e_r = np.ones(200)#initiate a permittivity vector, and change values at certain positions\n",
    "e_r[midX:midX+quartX] = 1.5**2\n",
    "#use this vector as described in slides in your for loop that solves the equations\n",
    "for t in range(Nt):\n",
    "    for ix in range(1, Nx):\n",
    "        Ez[ix] = Ez[ix] + dt/(e_0*e_r[ix]) * (Hy[ix] - Hy[ix-1])/dx\n",
    "        \n",
    "        #extra disturbance\n",
    "    Hy[Nx-1]=Hy[Nx-2]        \n",
    "    Ez[midX-quartX] = Ez[midX-quartX] + math.exp(-((t-50)**2)/49)\n",
    "        \n",
    "    for ix in range(Nx-1):\n",
    "        Hy[ix] = Hy[ix] + dt/mu * (Ez[ix+1] - Ez[ix])/dx\n",
    "    plt.plot(np.linspace(1, Nx, Nx), Ez)\n",
    "    plt.plot([midX,midX], [-1, 1], color = 'c', linestyle = '-', linewidth = 1)\n",
    "    plt.plot([midX+quartX,midX+quartX], [-1, 1], color = 'c', linestyle = '-', linewidth = 1)\n",
    "    plt.axis([0,Nx, -1,1])\n",
    "    plt.pause(0.001)\n",
    "    display.clear_output(wait=True)\n",
    "    Ez[0]= Ez[1]"
   ]
  },
  {
   "cell_type": "markdown",
   "metadata": {},
   "source": [
    "# Explain in your own words how you modelled location-dependent permittivity?"
   ]
  },
  {
   "cell_type": "markdown",
   "metadata": {},
   "source": [
    "This can be implemented by introducing an array with the same length as there are positions in the space  to assign a relative permittivity value to. Every element present the relative permittivity of the position in the space. When calculating the next value of the electrical component, we just need to take the relative permittivity of the position instead of an overall constant value. This will be enough to use the correct relative permittivity for every position in the calculation."
   ]
  }
 ],
 "metadata": {
  "kernelspec": {
   "display_name": "Python 3",
   "language": "python",
   "name": "python3"
  },
  "language_info": {
   "codemirror_mode": {
    "name": "ipython",
    "version": 3
   },
   "file_extension": ".py",
   "mimetype": "text/x-python",
   "name": "python",
   "nbconvert_exporter": "python",
   "pygments_lexer": "ipython3",
   "version": "3.7.6"
  }
 },
 "nbformat": 4,
 "nbformat_minor": 2
}
