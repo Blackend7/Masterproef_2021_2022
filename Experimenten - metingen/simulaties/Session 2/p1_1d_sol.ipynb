{
 "cells": [
  {
   "cell_type": "code",
   "execution_count": null,
   "metadata": {},
   "outputs": [],
   "source": [
    "#step 1  physical constants      \n",
    "import math\n",
    "import numpy as np\n",
    "\n",
    "c= 2.99792458e8\n",
    "mu = 4.0*math.pi*1.0e-7\n",
    "e_0 = 1.0/((c**2)*mu)\n",
    "e_r = 1.0"
   ]
  },
  {
   "cell_type": "code",
   "execution_count": null,
   "metadata": {},
   "outputs": [],
   "source": [
    "#step 2 spatial domain information\n",
    "Nx = 200\n",
    "dx = 1e-3"
   ]
  },
  {
   "cell_type": "code",
   "execution_count": null,
   "metadata": {},
   "outputs": [],
   "source": [
    "#step 3  field variable allocation\n",
    "Hy = np.zeros(Nx)   #magentic field y component\n",
    "Ez = np.zeros(Nx)   #electric field z-component"
   ]
  },
  {
   "cell_type": "code",
   "execution_count": null,
   "metadata": {},
   "outputs": [],
   "source": [
    "#step 4 time information\n",
    "dt = dx/c\n",
    "Nt = 400"
   ]
  },
  {
   "cell_type": "code",
   "execution_count": null,
   "metadata": {},
   "outputs": [],
   "source": [
    "#helpers\n",
    "midX   = round(Nx/2)                           #midpoint in the x-direction\n",
    "quartX = round(Nx/4)                           #quarterpoint in the x-direction"
   ]
  },
  {
   "cell_type": "code",
   "execution_count": null,
   "metadata": {},
   "outputs": [],
   "source": [
    "import matplotlib.pyplot as plt\n",
    "from IPython import display"
   ]
  },
  {
   "cell_type": "code",
   "execution_count": null,
   "metadata": {},
   "outputs": [],
   "source": [
    "for t in range(Nt):\n",
    "    for ix in range(1, Nx):\n",
    "        Ez[ix] = Ez[ix] + dt/(e_0*e_r) * (Hy[ix + 1] - Hy[ix-1])/dx\n",
    "        \n",
    "        #extra disturbance\n",
    "        \n",
    "    Ez[midX] = Ez[midX] + math.exp(-((t-50)**2)/49)\n",
    "        \n",
    "    for ix in range(Nx-1):\n",
    "        Hy[ix] = Hy[ix] + dt/mu * (Ez[ix+1] - Ez[ix])/dx\n",
    "    plt.plot(np.linspace(1, Nx, Nx), Ez)\n",
    "    plt.axis([0,Nx, -1, 1])\n",
    "    plt.pause(0.001)\n",
    "    display.clear_output(wait=True)"
   ]
  }
 ],
 "metadata": {
  "kernelspec": {
   "display_name": "Python 3",
   "language": "python",
   "name": "python3"
  },
  "language_info": {
   "codemirror_mode": {
    "name": "ipython",
    "version": 3
   },
   "file_extension": ".py",
   "mimetype": "text/x-python",
   "name": "python",
   "nbconvert_exporter": "python",
   "pygments_lexer": "ipython3",
   "version": "3.7.6"
  }
 },
 "nbformat": 4,
 "nbformat_minor": 2
}
