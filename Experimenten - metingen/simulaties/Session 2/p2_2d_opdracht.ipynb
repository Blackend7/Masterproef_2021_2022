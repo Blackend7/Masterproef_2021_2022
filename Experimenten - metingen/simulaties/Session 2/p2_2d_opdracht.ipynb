{
 "cells": [
  {
   "cell_type": "code",
   "execution_count": 1,
   "metadata": {},
   "outputs": [
    {
     "ename": "NameError",
     "evalue": "name 'FILL' is not defined",
     "output_type": "error",
     "traceback": [
      "\u001b[1;31m---------------------------------------------------------------------------\u001b[0m",
      "\u001b[1;31mNameError\u001b[0m                                 Traceback (most recent call last)",
      "\u001b[1;32m<ipython-input-1-a55284b1d3e4>\u001b[0m in \u001b[0;36m<module>\u001b[1;34m\u001b[0m\n\u001b[0;32m      5\u001b[0m \u001b[1;33m\u001b[0m\u001b[0m\n\u001b[0;32m      6\u001b[0m \u001b[1;33m\u001b[0m\u001b[0m\n\u001b[1;32m----> 7\u001b[1;33m \u001b[0mNx\u001b[0m \u001b[1;33m=\u001b[0m \u001b[0mFILL\u001b[0m\u001b[1;33m\u001b[0m\u001b[1;33m\u001b[0m\u001b[0m\n\u001b[0m\u001b[0;32m      8\u001b[0m \u001b[0mNy\u001b[0m \u001b[1;33m=\u001b[0m \u001b[0mFILL\u001b[0m                            \u001b[1;31m#number of samples\u001b[0m\u001b[1;33m\u001b[0m\u001b[1;33m\u001b[0m\u001b[0m\n\u001b[0;32m      9\u001b[0m \u001b[0mdx\u001b[0m \u001b[1;33m=\u001b[0m \u001b[0mFILL\u001b[0m\u001b[1;33m\u001b[0m\u001b[1;33m\u001b[0m\u001b[0m\n",
      "\u001b[1;31mNameError\u001b[0m: name 'FILL' is not defined"
     ]
    }
   ],
   "source": [
    "import math\n",
    "import matplotlib.pyplot as plt\n",
    "import numpy as np\n",
    "from IPython import display\n",
    "\n",
    "\n",
    "Nx = FILL\n",
    "Ny = FILL                            #number of samples\n",
    "dx = FILL \n",
    "dy = FILL                              #spatial step 2cm\n",
    "\n",
    "# ----------------------------------------\n",
    "# -      physical constants              -\n",
    "# ----------------------------------------\n",
    "c    = FILL                         #speed of light in vacuum\n",
    "mu   = 4.0*math.pi*1.0e-7                        #permeability of free space \n",
    "e_0  = 1.0/(c**2*mu)                         #permittivity of free space F/m\n",
    "e_r  = FILL                #relative permittivity, USE THE RIGHT DATA TYPE!\n",
    "\n",
    "# ----------------------------------------\n",
    "# -      temporal information            -\n",
    "# ----------------------------------------\n",
    "dt = 1.0/(c*math.sqrt( (1/dx)**2 + (1/dy)**2 ))  #time step (2D CFL-condition)\n",
    "Nt = 500                                       #number of time steps\n",
    "\n",
    "# ----------------------------------------\n",
    "# -      field variable allocation       -\n",
    "# ----------------------------------------\n",
    "Hx = FILL                        #magnetic field x-component\n",
    "Hy = FILL                           #magnetic field y-component\n",
    "Ez = FILL                            #electric field z-component\n",
    "Ezx = FILL                           #electric field z-component in the x-direction\n",
    "Ezy = FILL                        #electric field z-component in the y-direction\n",
    "\n",
    "# ----------------------------------------\n",
    "# -          source definition           -\n",
    "# ----------------------------------------\n",
    "sigma_t = 10*dt                             #width of the pulse\n",
    "t0      = 3*sigma_t                         #center of the pulse\n",
    "wavel   = 0.15                              #wavelength [m]\n",
    "N_lamb  = c/wavel                           #frequency [Hz]\n"
   ]
  },
  {
   "cell_type": "code",
   "execution_count": null,
   "metadata": {},
   "outputs": [],
   "source": [
    "# ------- gaussian pulse ------\n",
    "# source  = @(t) -2*(t*dt-t0)./sigma_t .* exp(-((t*dt-t0)./sigma_t).^2);                  \n",
    "\n",
    "# ------- sinusoid ------\n",
    "source  = lambda t: math.sin(2*math.pi*N_lamb*(t-t0)*dt)\n",
    "\n",
    "# ------- gaussian modulated sinusoid ------\n",
    "#source  = @(t) sin(2*pi*N_lamb*(t-t0)*dt).*exp(-((t*dt-t0)./sigma_t).^2);\n",
    "\n",
    "# ------- logistic modulated sinusoid ------\n",
    "# source  = @(t) 0.5*(tanh((t-60)/15)+1).*sin(2*pi*N_lamb*(t-t0)*dt);\n"
   ]
  },
  {
   "cell_type": "code",
   "execution_count": null,
   "metadata": {},
   "outputs": [],
   "source": [
    "%run setBackgroundVariables.ipynb\n",
    "%run makeRoom.ipynb"
   ]
  },
  {
   "cell_type": "code",
   "execution_count": null,
   "metadata": {},
   "outputs": [],
   "source": [
    "#This is how you make a room\n",
    "room = np.ones((100,100))\n",
    "room = makeRoom(room, wall_perm = 3, door_perm = 2)\n",
    "fig = plt.imshow(room)\n",
    "\n",
    "#You don't have to do this yourself. This is done in the function call in the block below."
   ]
  },
  {
   "cell_type": "code",
   "execution_count": null,
   "metadata": {},
   "outputs": [],
   "source": [
    "# ----------------------------------------\n",
    "# -         helper variables             -\n",
    "# ----------------------------------------\n",
    "midX   = round(Nx/2)                                   # midpoint in the x-direction\n",
    "midY   = round(Ny/2)                                   # midpoint in the y-direction\n",
    "quartX = round(Nx/4)                                   # quarterpoint in the x-direction\n",
    "quartY = round(Ny/4)                                   # quarterpoint in the y-direction\n",
    "\n",
    "Cezx1,Cezx2,Cezy1,Cezy2,Chx1,Chx2,Chy1,Chy2,e_r = setBackgroundVariables_I(Nx,Ny,e_r,e_0,mu,dt,dx,dy)"
   ]
  },
  {
   "cell_type": "code",
   "execution_count": 1,
   "metadata": {
    "scrolled": true
   },
   "outputs": [
    {
     "ename": "NameError",
     "evalue": "name 'FILL' is not defined",
     "output_type": "error",
     "traceback": [
      "\u001b[1;31m---------------------------------------------------------------------------\u001b[0m",
      "\u001b[1;31mNameError\u001b[0m                                 Traceback (most recent call last)",
      "\u001b[1;32m<ipython-input-1-6561dc2d017c>\u001b[0m in \u001b[0;36m<module>\u001b[1;34m\u001b[0m\n\u001b[0;32m      1\u001b[0m \u001b[1;32mfrom\u001b[0m \u001b[0mmatplotlib\u001b[0m\u001b[1;33m.\u001b[0m\u001b[0mcolors\u001b[0m \u001b[1;32mimport\u001b[0m \u001b[0mLinearSegmentedColormap\u001b[0m\u001b[1;33m\u001b[0m\u001b[1;33m\u001b[0m\u001b[0m\n\u001b[0;32m      2\u001b[0m \u001b[1;33m\u001b[0m\u001b[0m\n\u001b[1;32m----> 3\u001b[1;33m \u001b[0mx_distrubance\u001b[0m\u001b[1;33m,\u001b[0m \u001b[0my_disturbance\u001b[0m \u001b[1;33m=\u001b[0m \u001b[0mFILL\u001b[0m \u001b[1;33m,\u001b[0m \u001b[0mFILL\u001b[0m \u001b[1;31m#choose location for disturbance\u001b[0m\u001b[1;33m\u001b[0m\u001b[1;33m\u001b[0m\u001b[0m\n\u001b[0m\u001b[0;32m      4\u001b[0m \u001b[1;33m\u001b[0m\u001b[0m\n\u001b[0;32m      5\u001b[0m \u001b[0mcMap\u001b[0m \u001b[1;33m=\u001b[0m \u001b[1;33m[\u001b[0m\u001b[1;33m]\u001b[0m\u001b[1;33m\u001b[0m\u001b[1;33m\u001b[0m\u001b[0m\n",
      "\u001b[1;31mNameError\u001b[0m: name 'FILL' is not defined"
     ]
    }
   ],
   "source": [
    "from matplotlib.colors import LinearSegmentedColormap\n",
    "\n",
    "x_distrubance, y_disturbance = FILL , FILL #choose location for disturbance\n",
    "\n",
    "cMap = []\n",
    "for value, colour in zip([0, 1],[\"Yellow\", \"Black\"]):\n",
    "    cMap.append((value, colour))\n",
    "\n",
    "#------ iterate from t=0 until t=Nt-1 (or iterate Nt times) ------ \n",
    "for t in range(Nt):\n",
    "    \n",
    "    #------ solve dtEzx = dxHy ------ \n",
    "    for iX in range(1, Nx):\n",
    "        for iY in range(Ny):\n",
    "            Ezx[iY,iX] = Cezx1[iY,iX]*Ezx[iY,iX ]+ Cezx2[iY,iX]*( (Hy[iY,iX]-Hy[iY,iX-1]) )\n",
    "\n",
    "    #------ solve dtEzy = - dyHx ------     \n",
    "    for iX in range(Nx):\n",
    "        for iY in range(1, Ny):\n",
    "            Ezy[iY,iX] = FILL #implement analogously to the above loop, but change to relevant parts\n",
    "    \n",
    "    #------ recouple Ez ------\n",
    "    Ez = Ezx+Ezy \n",
    "    \n",
    "  \n",
    "    \n",
    "    #------ add source to the electric field ------ \n",
    "    Ez[x_disturbance, y_disturbance] = FILL \n",
    "    \n",
    "    #------ solve dtHx = -dyEz ------ \n",
    "    for iX in range(Nx):\n",
    "        for iY in range(Ny-1):\n",
    "            Hx[iY,iX] = Chx1[iY,iX]*Hx[iY,iX] - Chx2[iY,iX]*( Ez[iY+1,iX] - Ez[iY,iX] )\n",
    "\n",
    "    \n",
    "    #------ solve dtHy = dxEz ------ \n",
    "    for iX in range(Nx-1):\n",
    "        for iY in range(Ny):\n",
    "            Hy[iY,iX] = FILL #implement analogously to the above loop, but change to relevant parts\n",
    "    \n",
    "    plt.imshow((e_r-1), cmap=LinearSegmentedColormap.from_list(\"custom\", cMap), alpha=0.5)\n",
    "    #SHOW PLOT HERE\n",
    "    #PAUSE PLOT\n",
    "    #CLEAR OUTPUT"
   ]
  },
  {
   "cell_type": "code",
   "execution_count": null,
   "metadata": {},
   "outputs": [],
   "source": []
  }
 ],
 "metadata": {
  "kernelspec": {
   "display_name": "Python 3",
   "language": "python",
   "name": "python3"
  },
  "language_info": {
   "codemirror_mode": {
    "name": "ipython",
    "version": 3
   },
   "file_extension": ".py",
   "mimetype": "text/x-python",
   "name": "python",
   "nbconvert_exporter": "python",
   "pygments_lexer": "ipython3",
   "version": "3.7.6"
  }
 },
 "nbformat": 4,
 "nbformat_minor": 2
}
