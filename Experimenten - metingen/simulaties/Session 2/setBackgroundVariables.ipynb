{
 "cells": [
  {
   "cell_type": "code",
   "execution_count": 34,
   "metadata": {},
   "outputs": [],
   "source": [
    "def setBackgroundVariables_I(Nx,Ny,e_r,e_0,mu,dt,dx,dy):\n",
    "    #----------------------------------------\n",
    "    #-          PML boundaries              -\n",
    "    #----------------------------------------\n",
    "    dLayers = 10                                 #number of layers\n",
    "    order   = 3                                              #order of polynomial of conductivity values\n",
    "    s_x = np.zeros((Ny,Nx))\n",
    "    s_y = np.zeros((Ny,Nx))       #electric conductivities\n",
    "\n",
    "    for iX in range(Nx):\n",
    "        s_x[iX, :dLayers] = np.power(list(range(dLayers-1,-1,-1)), order) / (dLayers-1)**order\n",
    "        s_x[iX,-dLayers:] = np.power(list(range(dLayers)), order) / (dLayers-1)**order\n",
    "\n",
    "    for iY in range(Ny):\n",
    "        s_y[:dLayers,iY]  = np.power(list(range(dLayers-1,-1,-1)), order) / (dLayers-1)**order\n",
    "        s_y[-dLayers:,iY] = np.power(list(range(dLayers)), order) / (dLayers-1)**order\n",
    "\n",
    "    ss_x = s_x * mu / e_0\n",
    "    ss_y = s_y * mu / e_0                       #magnetic \"conductivities\"\n",
    "    #----------------------------------------\n",
    "    #-         wall material props.         -\n",
    "    #----------------------------------------\n",
    "    wall_permittivity = 3.0\n",
    "    door_permittivity = 2.0\n",
    "\n",
    "    e_r[dLayers-1:-dLayers,dLayers-1:-dLayers] = makeRoom(e_r[dLayers-1:-dLayers,dLayers-1:-dLayers], wall_permittivity, door_permittivity)\n",
    "    \n",
    "    e_r_temp = e_r-1\n",
    "    ind = np.nonzero(e_r)\n",
    "    for el in ind:\n",
    "        s_x[el[0], el[1]] = e_r[el[0], el[1]]/40\n",
    "        s_y[el[0], el[1]] = e_r[el[0], el[1]]/40\n",
    "    \n",
    "\n",
    "    Cezx1 = np.divide((e_0*e_r-0.5*dt*s_x),(e_0*e_r+0.5*dt*s_x))     #Ezx first term coefficient\n",
    "    Cezx2 = dt/(dx*(e_0*e_r+0.5*dt*s_x))                             #Ezx second term coefficient\n",
    "    Cezy1 = np.divide((e_0*e_r-0.5*dt*s_y),(e_0*e_r+0.5*dt*s_y))     #Ezy first term coefficient\n",
    "    Cezy2 = dt/(dy*(e_0*e_r+0.5*dt*s_y))                             #Ezy second term coefficient\n",
    "\n",
    "    Chx1  = np.divide((mu-0.5*dt*ss_x),(mu+0.5*dt*ss_x))             #Hx first term coefficient\n",
    "    Chx2  = dt/(dy*(mu+0.5*dt*ss_x))                                 #Hx second term coefficient\n",
    "\n",
    "    Chy1  = np.divide((mu-0.5*dt*ss_y),(mu+0.5*dt*ss_y))             #Hy second term coefficient\n",
    "    Chy2  = dt/(dx*(mu+0.5*dt*ss_y))                                 #Hy second term coefficient\n",
    "    return [Cezx1,Cezx2,Cezy1,Cezy2,Chx1,Chx2,Chy1,Chy2,e_r]"
   ]
  }
 ],
 "metadata": {
  "kernelspec": {
   "display_name": "Python 3",
   "language": "python",
   "name": "python3"
  },
  "language_info": {
   "codemirror_mode": {
    "name": "ipython",
    "version": 3
   },
   "file_extension": ".py",
   "mimetype": "text/x-python",
   "name": "python",
   "nbconvert_exporter": "python",
   "pygments_lexer": "ipython3",
   "version": "3.7.6"
  }
 },
 "nbformat": 4,
 "nbformat_minor": 2
}
