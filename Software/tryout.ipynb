{
 "cells": [
  {
   "cell_type": "code",
   "execution_count": 3,
   "metadata": {},
   "outputs": [
    {
     "ename": "ModuleNotFoundError",
     "evalue": "No module named 'matplotlib'",
     "output_type": "error",
     "traceback": [
      "\u001b[1;31m---------------------------------------------------------------------------\u001b[0m",
      "\u001b[1;31mModuleNotFoundError\u001b[0m                       Traceback (most recent call last)",
      "\u001b[1;32m~\\AppData\\Local\\Temp/ipykernel_7068/2016654198.py\u001b[0m in \u001b[0;36m<module>\u001b[1;34m\u001b[0m\n\u001b[0;32m      1\u001b[0m \u001b[1;32mimport\u001b[0m \u001b[0mmath\u001b[0m\u001b[1;33m\u001b[0m\u001b[1;33m\u001b[0m\u001b[0m\n\u001b[1;32m----> 2\u001b[1;33m \u001b[1;32mimport\u001b[0m \u001b[0mmatplotlib\u001b[0m\u001b[1;33m.\u001b[0m\u001b[0mpyplot\u001b[0m \u001b[1;32mas\u001b[0m \u001b[0mplt\u001b[0m\u001b[1;33m\u001b[0m\u001b[1;33m\u001b[0m\u001b[0m\n\u001b[0m\u001b[0;32m      3\u001b[0m \u001b[1;32mimport\u001b[0m \u001b[0mnumpy\u001b[0m \u001b[1;32mas\u001b[0m \u001b[0mnp\u001b[0m\u001b[1;33m\u001b[0m\u001b[1;33m\u001b[0m\u001b[0m\n\u001b[0;32m      4\u001b[0m \u001b[1;32mfrom\u001b[0m \u001b[0mIPython\u001b[0m \u001b[1;32mimport\u001b[0m \u001b[0mdisplay\u001b[0m\u001b[1;33m\u001b[0m\u001b[1;33m\u001b[0m\u001b[0m\n\u001b[0;32m      5\u001b[0m \u001b[1;33m\u001b[0m\u001b[0m\n",
      "\u001b[1;31mModuleNotFoundError\u001b[0m: No module named 'matplotlib'"
     ]
    }
   ],
   "source": [
    "import math\n",
    "import matplotlib.pyplot as plt\n",
    "import numpy as np\n",
    "from IPython import display\n",
    "\n",
    "Nx = 100\n",
    "Ny = 100                         #number of samples\n",
    "dx = 2*1.0e-2 \n",
    "dy = 2*1.0e-2                               #spatial step 2cm\n",
    "\n",
    "# ----------------------------------------\n",
    "# -      physical constants              -\n",
    "# ---------------------------------------\n",
    "c    = 330*1.0e3                        #speed of sound\n",
    "mu   = 4.0*math.pi*1.0e-7                        #permeability of free space \n",
    "e_0  = 1.0/(c**2*mu)                         #permittivity of free space F/m\n",
    "e_r  = np.ones((Nx,Ny))              #relative permittivity, USE THE RIGHT DATA TYPE!\n",
    "\n",
    "# ----------------------------------------\n",
    "# -      temporal information            -\n",
    "# ----------------------------------------\n",
    "dt = 1.0/(c*math.sqrt( (1/dx)**2 + (1/dy)**2 ))  #time step (2D CFL-condition)\n",
    "Nt = 500                                       #number of time steps\n",
    "\n",
    "# ----------------------------------------\n",
    "# -      field variable allocation       -\n",
    "# ----------------------------------------\n",
    "Hx = np.zeros((Nx,Ny))                        #magnetic field x-component\n",
    "Hy = np.zeros((Nx,Ny))                           #magnetic field y-component\n",
    "Ez = np.zeros((Nx,Ny))                            #electric field z-component\n",
    "Ezx = np.zeros((Nx,Ny))                           #electric field z-component in the x-direction\n",
    "Ezy = np.zeros((Nx,Ny))                        #electric field z-component in the y-direction\n",
    "\n",
    "# ----------------------------------------\n",
    "# -          source definition           -\n",
    "# ----------------------------------------\n",
    "sigma_t = 10*dt                             #width of the pulse\n",
    "t0      = 3*sigma_t                         #center of the pulse\n",
    "wavel   = 0.15                              #wavelength [m]\n",
    "N_lamb  = c/wavel                           #frequency [Hz]\n"
   ]
  },
  {
   "cell_type": "code",
   "execution_count": 4,
   "metadata": {},
   "outputs": [
    {
     "name": "stdout",
     "output_type": "stream",
     "text": [
      "hello world\n"
     ]
    }
   ],
   "source": [
    "print ('hello world')"
   ]
  }
 ],
 "metadata": {
  "interpreter": {
   "hash": "b26b16975466e8f32fc15516c80cff855d270e386d14a296114873ba59e5357f"
  },
  "kernelspec": {
   "display_name": "Python 3.10.0 64-bit",
   "name": "python3"
  },
  "language_info": {
   "codemirror_mode": {
    "name": "ipython",
    "version": 3
   },
   "file_extension": ".py",
   "mimetype": "text/x-python",
   "name": "python",
   "nbconvert_exporter": "python",
   "pygments_lexer": "ipython3",
   "version": "3.10.0"
  },
  "orig_nbformat": 4
 },
 "nbformat": 4,
 "nbformat_minor": 2
}
